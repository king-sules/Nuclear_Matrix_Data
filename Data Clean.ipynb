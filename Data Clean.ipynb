{
 "cells": [
  {
   "cell_type": "code",
   "execution_count": 40,
   "metadata": {},
   "outputs": [
    {
     "data": {
      "text/html": [
       "<div>\n",
       "<style scoped>\n",
       "    .dataframe tbody tr th:only-of-type {\n",
       "        vertical-align: middle;\n",
       "    }\n",
       "\n",
       "    .dataframe tbody tr th {\n",
       "        vertical-align: top;\n",
       "    }\n",
       "\n",
       "    .dataframe thead th {\n",
       "        text-align: right;\n",
       "    }\n",
       "</style>\n",
       "<table border=\"1\" class=\"dataframe\">\n",
       "  <thead>\n",
       "    <tr style=\"text-align: right;\">\n",
       "      <th></th>\n",
       "      <th>Parcel ID</th>\n",
       "      <th>Location</th>\n",
       "      <th>Owner</th>\n",
       "      <th>Built</th>\n",
       "      <th>Total Value</th>\n",
       "      <th>Beds</th>\n",
       "      <th>Lot size</th>\n",
       "      <th>LUC</th>\n",
       "      <th>NHood</th>\n",
       "      <th>Sale date</th>\n",
       "      <th>Book Page</th>\n",
       "    </tr>\n",
       "  </thead>\n",
       "  <tbody>\n",
       "    <tr>\n",
       "      <th>0</th>\n",
       "      <td>NaN</td>\n",
       "      <td>NaN</td>\n",
       "      <td>NaN</td>\n",
       "      <td>NaN</td>\n",
       "      <td>NaN</td>\n",
       "      <td>NaN</td>\n",
       "      <td>NaN</td>\n",
       "      <td>NaN</td>\n",
       "      <td>NaN</td>\n",
       "      <td>NaN</td>\n",
       "      <td>NaN</td>\n",
       "    </tr>\n",
       "    <tr>\n",
       "      <th>1</th>\n",
       "      <td>045B-000-002-085</td>\n",
       "      <td>18  ABINGTON AVENUE</td>\n",
       "      <td>HARKINS JAMES P LIFE ESTATE</td>\n",
       "      <td>1931</td>\n",
       "      <td>$214,800</td>\n",
       "      <td>2.0</td>\n",
       "      <td>5,001</td>\n",
       "      <td>101</td>\n",
       "      <td>202</td>\n",
       "      <td>5/23/07</td>\n",
       "      <td>C110554</td>\n",
       "    </tr>\n",
       "    <tr>\n",
       "      <th>2</th>\n",
       "      <td>NaN</td>\n",
       "      <td>NaN</td>\n",
       "      <td>HARKINS PATRICIA A LIFE ESTATE</td>\n",
       "      <td>Cape</td>\n",
       "      <td>NaN</td>\n",
       "      <td>1.0</td>\n",
       "      <td>936</td>\n",
       "      <td>ONE FAM</td>\n",
       "      <td>NaN</td>\n",
       "      <td>NaN</td>\n",
       "      <td>NaN</td>\n",
       "    </tr>\n",
       "    <tr>\n",
       "      <th>3</th>\n",
       "      <td>NaN</td>\n",
       "      <td>NaN</td>\n",
       "      <td>HARKINS PAUL E</td>\n",
       "      <td>NaN</td>\n",
       "      <td>NaN</td>\n",
       "      <td>NaN</td>\n",
       "      <td>NaN</td>\n",
       "      <td>NaN</td>\n",
       "      <td>NaN</td>\n",
       "      <td>NaN</td>\n",
       "      <td>NaN</td>\n",
       "    </tr>\n",
       "    <tr>\n",
       "      <th>4</th>\n",
       "      <td>048-000-039-012</td>\n",
       "      <td>1  ACACIA RD</td>\n",
       "      <td>MORLEY-NORTON DENISE</td>\n",
       "      <td>1975</td>\n",
       "      <td>$258,700</td>\n",
       "      <td>3.0</td>\n",
       "      <td>8,276</td>\n",
       "      <td>101</td>\n",
       "      <td>204</td>\n",
       "      <td>5/29/07</td>\n",
       "      <td>34586-319</td>\n",
       "    </tr>\n",
       "  </tbody>\n",
       "</table>\n",
       "</div>"
      ],
      "text/plain": [
       "          Parcel ID             Location                           Owner  \\\n",
       "0               NaN                  NaN                             NaN   \n",
       "1  045B-000-002-085  18  ABINGTON AVENUE     HARKINS JAMES P LIFE ESTATE   \n",
       "2               NaN                  NaN  HARKINS PATRICIA A LIFE ESTATE   \n",
       "3               NaN                  NaN                  HARKINS PAUL E   \n",
       "4   048-000-039-012         1  ACACIA RD            MORLEY-NORTON DENISE   \n",
       "\n",
       "    Built Total Value  Beds Lot size      LUC NHood Sale date  Book Page  \n",
       "0     NaN         NaN   NaN      NaN      NaN   NaN       NaN        NaN  \n",
       "1    1931   $214,800    2.0    5,001      101   202   5/23/07    C110554  \n",
       "2  Cape           NaN   1.0      936  ONE FAM   NaN       NaN        NaN  \n",
       "3     NaN         NaN   NaN      NaN      NaN   NaN       NaN        NaN  \n",
       "4    1975   $258,700    3.0    8,276      101   204   5/29/07  34586-319  "
      ]
     },
     "execution_count": 40,
     "metadata": {},
     "output_type": "execute_result"
    }
   ],
   "source": [
    "import numpy as np\n",
    "import pandas as pd\n",
    "\n",
    "data_2007=pd.read_csv('2007_1.csv')\n",
    "df1=pd.DataFrame(data_2007)\n",
    "df1.head()"
   ]
  },
  {
   "cell_type": "code",
   "execution_count": 41,
   "metadata": {},
   "outputs": [],
   "source": [
    "df1 = df1[pd.notnull(df1['Lot size'])]\n",
    "df1.head()\n",
    "\n",
    "df1 = df1.reset_index(drop=True)"
   ]
  },
  {
   "cell_type": "code",
   "execution_count": 42,
   "metadata": {},
   "outputs": [],
   "source": [
    "df1['Beds']=pd.to_numeric(df1['Beds'])\n",
    "df1['Bath'] = df1['Beds'].iloc[1::2]\n",
    "df1['Bath'] = df1['Bath'].shift(periods=-1)\n"
   ]
  },
  {
   "cell_type": "code",
   "execution_count": 8,
   "metadata": {},
   "outputs": [],
   "source": [
    "df1['Bed/Bath'] = df1['Beds'] + df1['Bath']"
   ]
  },
  {
   "cell_type": "code",
   "execution_count": 9,
   "metadata": {},
   "outputs": [],
   "source": [
    "x = pd.isnull(df1['Sale date'])\n",
    "\n",
    "for index, row in df1.iterrows():\n",
    "    if(x[index+1] == True):\n",
    "        df1 = df1.drop(index)\n",
    "        df1 = df1.drop(index+1)    "
   ]
  },
  {
   "cell_type": "code",
   "execution_count": null,
   "metadata": {},
   "outputs": [],
   "source": []
  },
  {
   "cell_type": "code",
   "execution_count": 46,
   "metadata": {},
   "outputs": [],
   "source": [
    "df1['Price'] = df1['Sale date'].loc[1::2]\n",
    "df1['Price'] = df1['Sale date'].shift(periods=-1)"
   ]
  },
  {
   "cell_type": "code",
   "execution_count": null,
   "metadata": {},
   "outputs": [],
   "source": []
  },
  {
   "cell_type": "code",
   "execution_count": 48,
   "metadata": {},
   "outputs": [],
   "source": [
    "df1 = df1[pd.notnull(df1['Location'])]"
   ]
  },
  {
   "cell_type": "code",
   "execution_count": 49,
   "metadata": {},
   "outputs": [],
   "source": [
    "df1 = df1.reset_index(drop=True)\n",
    "df1['Location'] = df1['Location'].astype(str)"
   ]
  },
  {
   "cell_type": "code",
   "execution_count": null,
   "metadata": {},
   "outputs": [],
   "source": []
  },
  {
   "cell_type": "code",
   "execution_count": null,
   "metadata": {},
   "outputs": [],
   "source": []
  },
  {
   "cell_type": "code",
   "execution_count": 51,
   "metadata": {},
   "outputs": [],
   "source": [
    "df1.to_excel(\"output2007.xlsx\", index=False, header=True)"
   ]
  },
  {
   "cell_type": "code",
   "execution_count": null,
   "metadata": {},
   "outputs": [],
   "source": []
  }
 ],
 "metadata": {
  "kernelspec": {
   "display_name": "Python 3",
   "language": "python",
   "name": "python3"
  },
  "language_info": {
   "codemirror_mode": {
    "name": "ipython",
    "version": 3
   },
   "file_extension": ".py",
   "mimetype": "text/x-python",
   "name": "python",
   "nbconvert_exporter": "python",
   "pygments_lexer": "ipython3",
   "version": "3.7.3"
  }
 },
 "nbformat": 4,
 "nbformat_minor": 2
}
